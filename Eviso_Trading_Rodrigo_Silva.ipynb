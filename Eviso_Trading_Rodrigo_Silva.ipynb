{
  "nbformat": 4,
  "nbformat_minor": 0,
  "metadata": {
    "colab": {
      "name": "Eviso_Trading_Rodrigo_Silva",
      "provenance": [],
      "toc_visible": true,
      "authorship_tag": "ABX9TyNp3u4//OVfbQJ//lLilXc/",
      "include_colab_link": true
    },
    "kernelspec": {
      "name": "python3",
      "display_name": "Python 3"
    }
  },
  "cells": [
    {
      "cell_type": "markdown",
      "metadata": {
        "id": "view-in-github",
        "colab_type": "text"
      },
      "source": [
        "<a href=\"https://colab.research.google.com/github/evisocode/predict_energy_market/blob/master/Eviso_Trading_Rodrigo_Silva.ipynb\" target=\"_parent\"><img src=\"https://colab.research.google.com/assets/colab-badge.svg\" alt=\"Open In Colab\"/></a>"
      ]
    },
    {
      "cell_type": "markdown",
      "metadata": {
        "id": "tkSzHc1fe9Xg",
        "colab_type": "text"
      },
      "source": [
        "# Intro"
      ]
    },
    {
      "cell_type": "markdown",
      "metadata": {
        "id": "PHMf9Fv2e_1f",
        "colab_type": "text"
      },
      "source": [
        "This Notebook was asigned to Rodrigo Silva"
      ]
    },
    {
      "cell_type": "markdown",
      "metadata": {
        "id": "jIj4Ip33fIDv",
        "colab_type": "text"
      },
      "source": [
        "# Personal Section"
      ]
    },
    {
      "cell_type": "markdown",
      "metadata": {
        "id": "Nf4gbg-xfMD1",
        "colab_type": "text"
      },
      "source": [
        "text"
      ]
    },
    {
      "cell_type": "code",
      "metadata": {
        "id": "qPuBk8CvfHfR",
        "colab_type": "code",
        "colab": {}
      },
      "source": [
        "code"
      ],
      "execution_count": 0,
      "outputs": []
    }
  ]
}
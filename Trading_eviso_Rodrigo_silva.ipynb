{
  "nbformat": 4,
  "nbformat_minor": 0,
  "metadata": {
    "colab": {
      "name": "Trading_eviso_Rodrigo_silva",
      "provenance": [],
      "toc_visible": true,
      "include_colab_link": true
    },
    "kernelspec": {
      "name": "python3",
      "display_name": "Python 3"
    }
  },
  "cells": [
    {
      "cell_type": "markdown",
      "metadata": {
        "id": "view-in-github",
        "colab_type": "text"
      },
      "source": [
        "<a href=\"https://colab.research.google.com/github/evisocode/predict_energy_market/blob/master/Trading_eviso_Rodrigo_silva.ipynb\" target=\"_parent\"><img src=\"https://colab.research.google.com/assets/colab-badge.svg\" alt=\"Open In Colab\"/></a>"
      ]
    },
    {
      "cell_type": "markdown",
      "metadata": {
        "id": "tkSzHc1fe9Xg",
        "colab_type": "text"
      },
      "source": [
        "# Intro"
      ]
    },
    {
      "cell_type": "markdown",
      "metadata": {
        "id": "PHMf9Fv2e_1f",
        "colab_type": "text"
      },
      "source": [
        "This Notebook was asigned to Rodrigo Silva"
      ]
    },
    {
      "cell_type": "markdown",
      "metadata": {
        "id": "jIj4Ip33fIDv",
        "colab_type": "text"
      },
      "source": [
        "# Personal Section"
      ]
    },
    {
      "cell_type": "markdown",
      "metadata": {
        "id": "Nf4gbg-xfMD1",
        "colab_type": "text"
      },
      "source": [
        "text"
      ]
    },
    {
      "cell_type": "code",
      "metadata": {
        "id": "qPuBk8CvfHfR",
        "colab_type": "code",
        "outputId": "0cb01c57-5617-46bb-bd55-434de7d29e24",
        "colab": {
          "base_uri": "https://localhost:8080/",
          "height": 34
        }
      },
      "source": [
        "print(2)"
      ],
      "execution_count": 0,
      "outputs": [
        {
          "output_type": "stream",
          "text": [
            "2\n"
          ],
          "name": "stdout"
        }
      ]
    }
  ]
}